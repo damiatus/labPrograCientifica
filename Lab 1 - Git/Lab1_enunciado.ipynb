{
  "cells": [
    {
      "cell_type": "markdown",
      "metadata": {
        "cell_id": "097fce6dce21405c911254a775ae3d26",
        "deepnote_cell_type": "markdown",
        "id": "J4_IcuuKZj9Y"
      },
      "source": [
        "<h1><center>Laboratorio 1: Git 👾</center></h1>\n",
        "\n",
        "<center><strong>MDS7202: Laboratorio de Programación Científica para Ciencia de Datos - Primavera 2024</strong></center>"
      ]
    },
    {
      "cell_type": "markdown",
      "metadata": {
        "cell_id": "9e8e8f2ae34e461da4f44508a96d2cf4",
        "deepnote_cell_type": "markdown",
        "id": "AEXIACc7aADv"
      },
      "source": [
        "### Cuerpo Docente:\n",
        "\n",
        "- Profesores: Ignacio Meza, Sebastián Tinoco\n",
        "- Auxiliar: Eduardo Moya\n",
        "- Ayudantes: Nicolás Ojeda, Melanie Peña, Valentina Rojas"
      ]
    },
    {
      "cell_type": "markdown",
      "metadata": {
        "cell_id": "3e5b48c23e1b48f6a64de41899166179",
        "deepnote_cell_type": "markdown",
        "id": "0HgMMyoCaG8X"
      },
      "source": [
        "### Equipo: **SUPER IMPORTANTE - notebooks sin nombre no serán revisados**\n",
        "\n",
        "- Nombre de alumno 1: Angelo León\n",
        "- Nombre de alumno 2: Damián De Aguiar"
      ]
    },
    {
      "cell_type": "markdown",
      "metadata": {
        "cell_id": "1db7c82b68614d19b112ba3b0d0abe4d",
        "deepnote_cell_type": "markdown",
        "id": "fz77X6glaK6y"
      },
      "source": [
        "### **Link de repositorio de GitHub:** [Insertar Enlace](https://github.com/damiatus/labPrograCientifica)"
      ]
    },
    {
      "cell_type": "markdown",
      "metadata": {
        "cell_id": "bc3dac65089d4ae6a43c079547dee179",
        "deepnote_cell_type": "markdown",
        "id": "rRwqaxIZaNx3"
      },
      "source": [
        "## Reglas:\n",
        "\n",
        "- **Grupos de 2 personas**\n",
        "- Fecha de entrega: 6 días de plazo con descuento de 1 punto por día. Entregas Jueves a las 23:59.\n",
        "- Instrucciones del lab el viernes a las 16:15 en formato online. Asistencia no es obligatoria.\n",
        "- <u>Prohibidas las copias</u>. Cualquier intento de copia será debidamente penalizado con el reglamento de la escuela.\n",
        "- Tienen que subir el laboratorio a u-cursos y a su repositorio de github. Labs que no estén en u-cursos no serán revisados. Recuerden que el repositorio también tiene nota.\n",
        "- Cualquier duda fuera del horario de clases al foro. Mensajes al equipo docente serán respondidos por este medio.\n",
        "- Pueden usar cualquier material del curso que estimen conveniente."
      ]
    },
    {
      "cell_type": "markdown",
      "metadata": {
        "cell_id": "05e4729411a24153837fd13b7f198bd9",
        "deepnote_cell_type": "markdown",
        "id": "bmToL27JaSrf"
      },
      "source": [
        "## Objetivos del lab:\n",
        "\n",
        "\n",
        "- Conocer los elementos básicos que conformar `Git`\n",
        "- Clonar repositorios\n",
        "- Identificar ramas de un repositorio\n",
        "- Reconocer y solucionar problemas entre ramas\n",
        "- Subir cambios a un repositorio"
      ]
    },
    {
      "cell_type": "markdown",
      "metadata": {
        "cell_id": "5ebae9d601bd4d508349ab55297e9f82",
        "deepnote_cell_type": "markdown",
        "id": "bvnPCvrVbJLK"
      },
      "source": [
        "## Parte 1: Conocimiento Teórico (2.5 pts)\n",
        "\n",
        "<p align=\"center\">\n",
        "  <img src=\"https://cdn.thedesigninspiration.com/wp-content/uploads/sites/3/2019/04/macintosh-hdusersbrittanyloefflerdownloadsanig-1.gif\" width=\"350\">\n",
        "</p>"
      ]
    },
    {
      "cell_type": "markdown",
      "metadata": {
        "cell_id": "627494dba4f84520b3ee8b9cbf58ee79",
        "deepnote_cell_type": "markdown",
        "id": "JHl-24XnbNLF"
      },
      "source": [
        "Responda las siguientes preguntas (0.2 pts c/u):\n",
        "\n",
        "1. ¿Qué es `Git` y cómo se relaciona con el control de versiones?\n",
        "\n",
        "2. Nombre y explique 3 diferencias entre `Git` y `Github`.\n",
        "\n",
        "3. ¿Qué es un `hash` y cómo se representa en un `commit`? De un ejemplo.\n",
        "\n",
        "4. ¿Que elementos componen a la estructura de datos de `Git`?\n",
        "\n",
        "5. ¿Que comandos de `Git` sirven para crear un repositorio y hacer seguimiento a cambios en los archivos?"
      ]
    },
    {
      "cell_type": "markdown",
      "metadata": {
        "cell_id": "6d06c40f429044a298b27c666f51f46f",
        "deepnote_cell_type": "markdown",
        "id": "2tXCSkf0caG8"
      },
      "source": [
        "<code>Escriba sus respuestas acá:</code>\n",
        "\n",
        "#### 1. ¿Qué es `Git` y cómo se relaciona con el control de versiones?\n",
        "    Git es en sí un sistema de control de versiones. Se utiliza para tener un registro de todos los cambios que se hacen sobre un directorio de trabajo en seguimiento. Git registra cada cambio realizado a los archovs y dichso cambios se pueden organizar dentro de ramas que permite el desarrollo en paralelo de características de manera de tener más de una versión de lo que se esté creando siendo desarrollado en paralelo. De esta manera, dos personas pueden trabajar en un código con copias propias para no intererir en lo que el otro haga para luego juntarlas en una una vez los trabajos de ambos estén completados. Así mismo, se puede tener a todo un equipo de trabajo desarrollando código para una misma aplicación de manera ordenada y coherente.\n",
        "\n",
        "#### 2. Nombre y explique 3 diferencias entre `Git` y `Github`.\n",
        "    1. Por un lado Git corre de manera local en el computador y lleva el registro de los cambio de manera local, en cambio GitHub corre en la nube, llevándo el registro de los cambios en la nube.\n",
        "    2. Git lleva el registro de los cambios a nivel local y los compara con los cambios en la nube (Github), mientras que GitHub lleva el registro de los cambios de todos los que aportan contenido desde sus git locales a dicho repositorio en Github, sirviendo de puente entre los git de cada colaborador en el proyecto.\n",
        "    3. PRELIMINAR: Git se comanda desde la terminal o desde visualizaciones más amigable que corren sobre la terminal como podría ser en VS Code. Por otro lado, GitHub se comanda desde el navegador a través de internet o desde su aplicación de sistema operativo. \n",
        "    4. Git puede enviar y recibir cambios desde GitHub mientras que GitHub almacena y acepta o rechaza cambios en el repositorio que le son enviados desde Git.\n",
        "    \n",
        "#### 3. ¿Qué es un `hash` y cómo se representa en un `commit`? De un ejemplo.\n",
        "    Un hash es un identificador único de cada commit. Se utiliza para identificar de manera única cada commit en la historia de cambios. Se calcula a partir del contenido del commit, el árbil de archivos y el hach del commit padre. Un ejemplo es el siguiente: \n",
        "\n",
        "    \"commit 07af145995559e28e656110cb9bdb59ebcd67423 (HEAD -> main, origin/main)  \n",
        "    Author: damiatus <damiandeaguiar@gmail.com>  \n",
        "    Date:   Sat Aug 17 21:11:25 2024 -0400  \n",
        "    se añaden más archvos de la carpeta del lab 1 que no estaban\"\n",
        "    \n",
        "    En dónde \"07af145995559e28e656110cb9bdb59ebcd67423\" corresponde al hash completo de dicho commit.\n",
        "    \n",
        "\n",
        "#### 4. ¿Que elementos componen a la estructura de datos de `Git`?\n",
        "\n",
        "La estructura está compuesta por:\n",
        "- Ramas: Referencia a un commit específico y permite desarrollar diferentes líneas de trabajo en el mismo repositorio.\n",
        "- Blobs: Unidad de almacenamiento en Git que contiene el contenido de un archivo\n",
        "- Árboles: Compuesto por directorios y subdirectorios es la estrutura que se forma con toda la hisotira de cambios en sus distintas ramas de un repositorio\n",
        "- Commits: Instancia guardada del respositorio en su estado actual. Incluye arbol y referencia a commits anteriores\n",
        "- Tags: Referencias a commits importantes como diferentes versiones en producción de una aplicación\n",
        "- Remotes: Repositorio remoto al que se conecta Git para colaborar\n",
        "- Index: Área intermedia de segui9miento de archivos antes de hacer commit\n",
        "\n",
        "#### 5. ¿Que comandos de `Git` sirven para crear un repositorio y hacer seguimiento a cambios en los archivos?\n",
        "- git init: Crea un repositorio local de Git dentro de un direcotrio\n",
        "Git \n",
        "- git config --global user.name \"Username\": Configura el nombre de usuario\n",
        "- git config --global user.email \"tu.email@example.com\": Configura el correo electrónico\n",
        "- git add <nombre-del-archivo>: Añade un archvio al staging área para preparación \n",
        "- git add . :Añade todos los archivos del directorio a la zona de preparación \n",
        "- git commit -m \"Mensaje del commit\": Hace un commit ocn los cambios realizados a los archivos de la zona de preparación\n",
        "- git remote add <nombre-del-remoto> <url-del-repositorio>: Añade un repostorio remoto con el que comunicarse\n",
        "- git pull <nombre-del-remoto> <nombre-de-la-rama>\n",
        ": Actualiza tu repostorio local con los cambios del repostorio remoto\n",
        "- git push <nombre-del-remoto> <nombre-de-la-rama>: Envía tus commits locales al repositorio remoto\n",
        "- git checkout <nombre-de-la-rama>: cambia de una rama de trabajo a otra\n"
      ]
    },
    {
      "cell_type": "markdown",
      "metadata": {
        "cell_id": "ec9855406e324cc98b59e33500faea84",
        "deepnote_cell_type": "markdown",
        "id": "MACccbP4gU43"
      },
      "source": [
        "Responda si las siguientes afirmaciones son Verdaderas (V) o Falsas (F). Justifique en **cualquiera** de los casos (0.2 pts c/u):\n",
        "\n",
        "\n",
        "6. `Git` siempre resuelve automáticamente los problemas de lineas al hacer merge entre diferentes ramas.\n",
        "7. Ejecutar `git pull` sobre un repositorio es equivalente a ejecutar `git clone`.\n",
        "8. `git status` genera los mismos resultados que `git log`.\n",
        "9. En `Git` es posible deshacer cambios y volver a versiones anteriores del código.\n",
        "10. El comando `git commit` se utiliza para enviar cambios al repositorio remoto."
      ]
    },
    {
      "cell_type": "markdown",
      "metadata": {
        "cell_id": "7e6a5a6e15b045cc9d104cf017825f1a",
        "deepnote_cell_type": "markdown",
        "id": "DFnmCToOgeM3"
      },
      "source": [
        "<code>Escriba sus respuestas acá:</code>\n",
        "\n",
        "#### 6. `Git` siempre resuelve automáticamente los problemas de lineas al hacer merge entre diferentes ramas.\n",
        "    FALSO! De manera por defecto no lo hace y uno tiene que indicarle qué hacer en cada caso de conflicto.  \n",
        "#### 7. Ejecutar `git pull` sobre un repositorio es equivalente a ejecutar `git clone`.\n",
        "    FALSO!  git pull se utiliza para actualizar tu repositorio local con los cambios del repositorio remoto (nótece que tu repositorio local ya debe estar creado), mientras que git clone crea una copia completa de un repositorio remoto en tu máquina local, creando un repositorio en tu máquina local de por medio.  \n",
        "\n",
        "#### 8. `git status` genera los mismos resultados que `git log`.\n",
        "    FALSO! git status indica el estado actual del directorio y de los cambios que se están siguiendo en el staging area, mientras que git log muestra el historial completo de los cambios commiteados  \n",
        "#### 9. En `Git` es posible deshacer cambios y volver a versiones anteriores del código.\n",
        "    VERDADERO! Esta es una de las grandes funcionalidades de Git, como guarda solo los cambios que se hacen en cada commit sobre un directorio, se puede saber cuándo se hizo cada cosa permitiendo volver a versiones anteriores.  \n",
        "#### 10. El comando `git commit` se utiliza para enviar cambios al repositorio remoto.  \n",
        "    FALSO! git commit se usa para guardar en el repositorio local una serie de cambios de los archivos en seguimiento. Para enviar cambios al repositorio remoto se usa git push"
      ]
    },
    {
      "cell_type": "markdown",
      "metadata": {
        "cell_id": "54317cad024744ebaf4938df55ba3b95",
        "deepnote_cell_type": "markdown",
        "id": "LYq55sI2Rjf0"
      },
      "source": [
        "Por último, investigue y comente con sus palabras para qué sirven los siguientes comandos:\n",
        "\n",
        "11. `git stash` (0.25 puntos)  \n",
        "    Se usa para guardar de manera temporal los cambios que aún no queremos confirmar. De esta manera podemos cambiar de rama o hacer otras operaciones sin perder los cambios para luego retomar el progreso en un futuro. Para volver a trabajar sobre esos cambios guardados temporalmte, se hace con git stash apply.  \n",
        "\n",
        "12. `git reset`. ¿Cuál es la diferencia de este comando con `git revert`?. (0.25 puntos)\n",
        "    git reset se usa para dehacer un commit o cambios en el historial del proyecto. Esto lo hace de manera destructiva, es decir, no deja rastros de los cambios dehechos. De esta manera se puede borrar commits de la historia sin dejar registro.\n",
        "\n",
        "    Por otro lado, git revert crea un commit que deshace los cambios en un commit pasado. De esta manera se mantiene la historia de dicha modificación y se podría volver atrás al estado previo de dicho revert.\n"
      ]
    },
    {
      "cell_type": "markdown",
      "metadata": {
        "cell_id": "3e4d8b9974e4426ca38fd20f4b835a55",
        "deepnote_cell_type": "markdown",
        "id": "i7Em9JkbbRLo"
      },
      "source": [
        "## Parte 2: Creando una presentación personal (1.5 pts)\n",
        "\n",
        "<p align=\"center\">\n",
        "  <img src=\"https://media.tenor.com/arqlNu8gyJYAAAAC/cat-cat-jumping.gif\" width=\"150\">\n",
        "</p>\n",
        "\n"
      ]
    },
    {
      "cell_type": "markdown",
      "metadata": {
        "cell_id": "988648005dba4b9782c6625dfe6ae4ef",
        "deepnote_cell_type": "markdown",
        "id": "XWIHfyrlbYOJ"
      },
      "source": [
        "Para empezar a \"*soltar las manos*\" con `Git`, se les encomienda crear un repositorio con una presentación personal. El repositorio debe contener un breve resumen de quienes son ustedes, sus gustos, experiencias, y cualquier otro detalle interesante que ustedes consideren relevante.\n",
        "\n",
        "Para realizar esto, deben seguir los siguientes pasos:\n",
        "\n",
        "1. Contar con una cuenta de github (1 por persona)\n",
        "2. Crear un repositorio con su nombre de usuario\n",
        "3. Vincular el repositorio a su ambiente local ¿Qué comando(s) me permiten hacer esto?\n",
        "4. Crear un archivo `readme.md` con la información que ustedes deseen compartir.\n",
        "5. Realizar `push` con los cambios generados\n",
        "\n",
        "A modo de ejemplo, pueden guiarse por esta *suculenta* [presentación](https://github.com/Mezosky)\n",
        "\n",
        "**Nota: Deben trabajar todos estos puntos desde su ambiente local**\n",
        "\n",
        "*Hint: Una buena opción es usar templates de presentación personal que encuentren en Google, como los que ofrece este [sitio](https://durgeshsamariya.github.io/awesome-github-profile-readme-templates/#/)*.\n",
        "\n",
        "**Entregable:**\n",
        "\n",
        "Enlace al repositorio con la presentación personal.\n",
        "\n",
        "IMPORTANTE: DEBEN ADJUNTAR UN ENLACE POR PERSONA"
      ]
    },
    {
      "cell_type": "markdown",
      "metadata": {
        "cell_id": "081b38d55dc54282bc8e3cd300ce9d3e",
        "deepnote_cell_type": "markdown",
        "id": "IIkWyl9tf0Sg"
      },
      "source": [
        "<code>Link Presentacion 1: https://github.com/damiatus/damiatus </code>\n",
        "\n",
        "<code>Link Presentacion 2: </code>"
      ]
    },
    {
      "cell_type": "markdown",
      "metadata": {
        "cell_id": "0481a05d2d1a46928f6cfb7762720980",
        "deepnote_cell_type": "markdown",
        "id": "CAzXOwvDY-IG"
      },
      "source": [
        "## Parte 3: Trabajando sobre un repositorio externo (2 pts)\n",
        "\n",
        "<p align=\"center\">\n",
        "  <img src=\"https://media.tenor.com/YXL-0SK15j4AAAAC/dance-animals.gif\" width=\"300\">\n",
        "</p>\n",
        "\n",
        "Tras muchos dolores de cabeza, un grupo de entusiastas académicos decidieron aprender sobre `Git` y así trabajar colaborativamente de forma más ordenada y eficiente. Después de una infinidad de intentos y aprender de sus errores \"*a la mala*\", los académicos lograron levantar un [repositorio](https://github.com/MDS7202/lab1) en `Github`. Usando el repositorio de los académicos, responda las siguientes preguntas (**incluya también los comandos en `Git` ocupados**):\n"
      ]
    },
    {
      "cell_type": "markdown",
      "metadata": {
        "cell_id": "bcef73b2e8604579bde90ed6622abfe9",
        "deepnote_cell_type": "markdown",
        "id": "BFRnAw0rfguR"
      },
      "source": [
        "1. Clone el repositorio a su ambiente local. (0.25 pts)"
      ]
    },
    {
      "cell_type": "markdown",
      "metadata": {
        "cell_id": "5d126ac3819c44479af94d3895bc4c97",
        "deepnote_cell_type": "markdown",
        "id": "KXro32yBeilN"
      },
      "source": [
        "<code>Escriba sus respuestas acá:</code>\n",
        "Estando en la ubicación en dónde quiero clonar el repositorio, escribo:\n",
        "    git clone https://github.com/MDS7202/lab1"
      ]
    },
    {
      "cell_type": "markdown",
      "metadata": {
        "cell_id": "e215e4e25b2440f09ac273ba63603986",
        "deepnote_cell_type": "markdown",
        "id": "8QB-GKmQRjf1"
      },
      "source": [
        "2. Descomprima los archivos subidos con la tarea en U-cursos en la carpeta recién clonada de github. Una vez realizado esto, cree un archivo `.gitignore` con el cual omita la carpeta `videos` y los archivos con la extensión `.txt` exceptuando el archivo `171.txt` de la carpeta `texts`. (0.25 pts)"
      ]
    },
    {
      "cell_type": "markdown",
      "metadata": {
        "cell_id": "186233b44d004e3bbd86262d010188b5",
        "deepnote_cell_type": "markdown",
        "id": "7VJ8IIYpRjf1"
      },
      "source": [
        "<code>Para esta pregunta usted deberá adjuntar el .gitignore creado en su repo.</code>\n",
        "\n",
        "Contenido del archivo .gitignore:\n",
        "\n",
        "videos/\n",
        "*.txt\n",
        "!texts/171.txt"
      ]
    },
    {
      "cell_type": "markdown",
      "metadata": {
        "cell_id": "1de150590a41484a988b8e46616a2324",
        "deepnote_cell_type": "markdown",
        "id": "q2qmiDyjt2M_"
      },
      "source": [
        "3. Inspeccione brevemente el repositorio: ¿Cual es el objetivo del proyecto? Explique brevemente la estructura del proyecto, asi como también cada elemento que lo conforma. (0.25 pts)"
      ]
    },
    {
      "cell_type": "markdown",
      "metadata": {
        "cell_id": "082ca01c865e48e28352b280400c47b6",
        "deepnote_cell_type": "markdown",
        "id": "aBHpR8VTftkT"
      },
      "source": [
        "<code>Escriba sus respuestas acá:</code>"
      ]
    },
    {
      "cell_type": "markdown",
      "metadata": {
        "cell_id": "3aab4a3ee0c246e1be955680ad653fb8",
        "deepnote_cell_type": "markdown",
        "id": "XFwqcpLZfylf"
      },
      "source": [
        "4. Identifique los últimos cambios al repositorio, reconociendo las principales ramas de trabajo. ¿Son informativos los `commit` realizados? (0.25 pts)\n",
        "*Hint: Se recomienda usar los argumentos `all`, `graph` y `decorate`*\n"
      ]
    },
    {
      "cell_type": "markdown",
      "metadata": {},
      "source": [
        "<code> Ubicados dentro del repositorio a analizar hacemos el comando: damiatus@DESKTOP-5KHT5VQ:~/labPrograCientifica/Lab 1 - Git/lab1 (cloned)$ git log --all --graph --decorate --oneline\n",
        "\n",
        "Luego vemos la siguiente respuesta que indica los últimos cambios de los últimos commits. El código del inicio indica el id del commit y el mensaje inidica el cambio relaizado en el commit:\n",
        "<code>\n",
        "* 43113e3 (HEAD -> main, origin/main, origin/HEAD) últimos modificaciones a archivo python del lab1\n",
        "* 39bae36 Avance en el archivo ipynb con el desarrollo del lab\n",
        "* 07af145 se añaden más archvos de la carpeta del lab 1 que no estaban\n",
        "* 93fb832 Añado los datos del datos del enunciado del laboratorio 1\n",
        "* 33d1e9c Segundo commit luego de arreglar el problema de nombres de ramas\n",
        "* c252758 Initial commit\n",
        "</code> \n",
        "\n",
        "<p>Vemos por otro lado las ramas de trabajo son: </p> \n",
        "\n",
        "<code> *main fix-ifs new_features*</code>  \n",
        "\n",
        "   </code>"
      ]
    },
    {
      "cell_type": "markdown",
      "metadata": {
        "cell_id": "d07b24d21f2343fb9a7e6a5db74e98c3",
        "deepnote_cell_type": "markdown",
        "id": "Vqbj9HdXrUnN"
      },
      "source": [
        "5. Uno de los académicos se da cuenta que la rama principal de trabajo no se ejecuta correctamente para todos los argumentos. Señale y explique el error en el código e identifique a la persona que lo cometió usando `git blame` (0.25 pts)\n",
        "\n",
        "*Hint: Le puede ser útil esta [documentación](https://www.atlassian.com/es/git/tutorials/inspecting-a-repository/git-blame).*"
      ]
    },
    {
      "cell_type": "markdown",
      "metadata": {
        "cell_id": "bc5b0f9c639643108f8e66687b721732",
        "deepnote_cell_type": "markdown",
        "id": "5ajhV2Iar3tV"
      },
      "source": [
        "<code>Escriba sus respuestas acá:</code>\n",
        "\n",
        "Vemos que al ejecutar el aricho main.py tenemos un error:\n",
        "\n",
        "<code> damiatus@DESKTOP-5KHT5VQ:~/labPrograCientifica/Lab 1 - Git/lab1 (cloned)$ python3 main.py \n",
        "Ingrese el animalito para saber que dice:\n",
        "gato\n",
        "miau\n",
        "Traceback (most recent call last):\n",
        "  File \"/home/damiatus/labPrograCientifica/Lab 1 - Git/lab1 (cloned)/main.py\", line 6, in <module>\n",
        "    animales(animal)\n",
        "  File \"/home/damiatus/labPrograCientifica/Lab 1 - Git/lab1 (cloned)/animales.py\", line 14, in animales\n",
        "    raise ValueError('animal no reconocido :(')\n",
        "ValueError: animal no reconocido :(</code>\n",
        "\n",
        "<p>Como los errores están en la linea 14, queremos ver quién las modificó:</p>\n",
        "\n",
        "damiatus@DESKTOP-5KHT5VQ:~/labPrograCientifica/Lab 1 - Git/lab1 (cloned)$ git blame -L 14,14 animales.py\n",
        "43113e3f (damiatus 2024-08-19 10:27:34 -0400 14)         raise ValueError('animal no reconocido :(')\n",
        "\n",
        "Ahora que sabemos que el commit fue hecho por el usuario damiatus el 19 de agosto de 2024 a las 10:27:34"
      ]
    },
    {
      "cell_type": "markdown",
      "metadata": {
        "cell_id": "f3f4e78e6d9145ebbb120c0a2e4aade6",
        "deepnote_cell_type": "markdown",
        "id": "m8J3uE7MhqTA"
      },
      "source": [
        "6. Busque los siguientes `commit`:\n",
        "\n",
        "- `c8b1a62d7299552b0654f930d695b33109214111`\n",
        "- `362fe21ee44f53ee944cee4ba484600308f83d78`\n",
        "- `25543a3baf77292baf849726784ca005473acab1`\n",
        "\n",
        "¿Qué diferencias existen entre cada uno? (0.25 pts)"
      ]
    },
    {
      "cell_type": "markdown",
      "metadata": {
        "cell_id": "696ed361ac0c41c8a214cfad9dcb39e6",
        "deepnote_cell_type": "markdown",
        "id": "sNHnZsgIitGh"
      },
      "source": [
        "<code>Escriba sus respuestas acá:</code>"
      ]
    },
    {
      "cell_type": "markdown",
      "metadata": {
        "cell_id": "b4e18f8ce94c430f85915c4e2732d05b",
        "deepnote_cell_type": "markdown",
        "id": "WQIPbfNCgpxC"
      },
      "source": [
        "7. Realice una `merge` de la rama `fix-ifs` con la rama `main` y describa lo que ocurre. ¿Qué parte del código podría estar ocasionando esto? (0.25 pts)"
      ]
    },
    {
      "cell_type": "markdown",
      "metadata": {
        "cell_id": "36da6a0d4f4a427bbccac09e2ae965fd",
        "deepnote_cell_type": "markdown",
        "id": "ypH_6lL5ioZz"
      },
      "source": [
        "<code>Escriba sus respuestas acá:</code>"
      ]
    },
    {
      "cell_type": "markdown",
      "metadata": {
        "cell_id": "09787ab449c543479e5cc54c2a3b6c19",
        "deepnote_cell_type": "markdown",
        "id": "GYfODCjeivkU"
      },
      "source": [
        "8. Cree una rama nueva y proponga una solución al problema anterior, adjuntando el código corregido y señalando las líneas modificadas. (0.25 pts)"
      ]
    },
    {
      "cell_type": "markdown",
      "metadata": {
        "cell_id": "6d963fba3f2d4c17a4b281c7d3f4fb8b",
        "deepnote_cell_type": "markdown",
        "id": "8heBxDU9iziT"
      },
      "source": [
        "<code>Escriba sus respuestas acá:</code>"
      ]
    },
    {
      "cell_type": "markdown",
      "metadata": {
        "cell_id": "8a47d4bf8b3045d68e4f29bb449c87f1",
        "deepnote_cell_type": "markdown",
        "id": "Av8ebB9jkALO"
      },
      "source": [
        "## Fin"
      ]
    },
    {
      "cell_type": "markdown",
      "metadata": {
        "cell_id": "cec4b53942ed489f8f8b63d0e9d4f3e5",
        "deepnote_cell_type": "markdown",
        "id": "aQqZT9fSkBK8"
      },
      "source": [
        "Eso ha sido todo por ahora!! Esperamos que este laboratorio les haya gustado y servido para trabajar con `Git`. Recuerden los dias de plazo que tienen disponibles y que ante cualquier duda no duden en contactar al equipo docente.\n",
        "\n",
        "Nos vemos!!\n",
        "\n",
        "<p align=\"center\">\n",
        "  <img src=\"https://media.tenor.com/OYLdav9k9LkAAAAd/kitty-cat.gif\" width=\"350\">\n",
        "</p>\n"
      ]
    }
  ],
  "metadata": {
    "colab": {
      "provenance": []
    },
    "deepnote_execution_queue": [],
    "deepnote_notebook_id": "62cd20d52b9a4810ada15644630456dc",
    "language_info": {
      "name": "python"
    }
  },
  "nbformat": 4,
  "nbformat_minor": 0
}
